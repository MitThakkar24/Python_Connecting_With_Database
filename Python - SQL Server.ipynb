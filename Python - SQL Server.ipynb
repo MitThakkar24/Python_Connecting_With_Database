{
 "cells": [
  {
   "cell_type": "code",
   "execution_count": 3,
   "id": "5854f623",
   "metadata": {},
   "outputs": [
    {
     "name": "stdout",
     "output_type": "stream",
     "text": [
      "('Hello', )\n",
      "('Hello', )\n",
      "('world', )\n"
     ]
    }
   ],
   "source": [
    "import pyodbc\n",
    "\n",
    "server = 'localhost'\n",
    "database = 'TestDB'\n",
    "\n",
    "# Use Trusted_Connection=yes for Windows Authentication\n",
    "connection_string = f'DRIVER={{ODBC Driver 17 for SQL Server}};SERVER={server};DATABASE={database};Trusted_Connection=yes'\n",
    "\n",
    "# Establishing the connection\n",
    "connection = pyodbc.connect(connection_string)\n",
    "\n",
    "# Creating a cursor\n",
    "cursor = connection.cursor()\n",
    "\n",
    "# Example: executing a simple query\n",
    "cursor.execute(\"SELECT * FROM test_table\")\n",
    "rows = cursor.fetchall()\n",
    "\n",
    "# Printing the results\n",
    "for row in rows:\n",
    "    print(row)\n",
    "\n",
    "# Closing the connection\n",
    "connection.close()\n"
   ]
  },
  {
   "cell_type": "code",
   "execution_count": null,
   "id": "6813afcb",
   "metadata": {},
   "outputs": [],
   "source": []
  }
 ],
 "metadata": {
  "kernelspec": {
   "display_name": "Python 3 (ipykernel)",
   "language": "python",
   "name": "python3"
  },
  "language_info": {
   "codemirror_mode": {
    "name": "ipython",
    "version": 3
   },
   "file_extension": ".py",
   "mimetype": "text/x-python",
   "name": "python",
   "nbconvert_exporter": "python",
   "pygments_lexer": "ipython3",
   "version": "3.9.7"
  }
 },
 "nbformat": 4,
 "nbformat_minor": 5
}
